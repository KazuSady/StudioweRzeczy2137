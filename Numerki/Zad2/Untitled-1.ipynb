{
 "cells": [
  {
   "cell_type": "code",
   "execution_count": 7,
   "metadata": {},
   "outputs": [
    {
     "name": "stdout",
     "output_type": "stream",
     "text": [
      "Wprowadz nazwe pliku z ukladem rownan do rozwiazania\n",
      "Wybierz metode stopu\n",
      "1 - Ilosc iteracji\n",
      "2 - Dokladnosc\n",
      "Wprowadz liczbe iteracji\n",
      "4.0\n",
      "3.0 0 12.0\n",
      "4.0\n",
      "1.0 0 12.0\n",
      "12.0\n",
      "2.0 12.0 9.0\n",
      "4.5\n",
      "1.8\n",
      "7.0 0 9.0\n",
      "1.2857142857142858\n",
      "1.0 12.0 -4.0\n",
      "-4.0\n",
      "2.0 1.2857142857142858 -6.571428571428571\n",
      "-3.2857142857142856\n",
      "-6.571428571428571\n",
      "([12.0, 1.2857142857142858, -6.571428571428571], 3)\n"
     ]
    }
   ],
   "source": [
    "def GaussSeidel(aMatrix, bMatrix,xSolution, iter, eps):\n",
    "    n = len(aMatrix)\n",
    "    repetition = 0                  \n",
    "    while True:\n",
    "        for i in range(0, n):  \n",
    "            temp = 0       \n",
    "            d = bMatrix[i]                \n",
    "            for j in range(0, n):     \n",
    "                if(i != j):\n",
    "                    d-=aMatrix[i][j] * xSolution[j]\n",
    "                    print(aMatrix[i][j],xSolution[j],d)\n",
    "                xSolution[i] = d / aMatrix[i][j]  \n",
    "                print(xSolution[i])\n",
    "            # if eps != None and abs(xSolution[i]-temp) < eps:\n",
    "            #     return x, repetition\n",
    "            # temp = xSolution[i]\n",
    "            repetition += 1 \n",
    "            if iter != None and repetition == iter:\n",
    "                break    \n",
    "        return x, repetition\n",
    "        \n",
    "\n",
    "\n",
    "print('Wprowadz nazwe pliku z ukladem rownan do rozwiazania')\n",
    "fileName = input()\n",
    "print('Wybierz metode stopu\\n1 - Ilosc iteracji\\n2 - Dokladnosc')\n",
    "stopMethod = input()\n",
    "match stopMethod:\n",
    "    case '1':\n",
    "        print('Wprowadz liczbe iteracji')\n",
    "        iters = input()\n",
    "    case '2':\n",
    "        print('Wprowadz dokladnosc, np. 1e-8')\n",
    "        epsilon = input()\n",
    "\n",
    "with open(fileName, 'r') as f:\n",
    "    lines = f.readlines()\n",
    "    data = []\n",
    "    n = -1\n",
    "    last_column = []\n",
    "    for line in lines:\n",
    "        chars = [float(x) for x in line.split()]\n",
    "        data.append(chars[:-1])\n",
    "        last_column.append(chars[-1])\n",
    "        n += 1\n",
    "# Creating the solutions array \n",
    "x = []\n",
    "for i in range(0, n + 1):\n",
    "    x.append(0)\n",
    "\n",
    "match stopMethod:\n",
    "    case '1':\n",
    "        print(GaussSeidel(data, last_column, x, int(iters), None))\n",
    "    case '2':\n",
    "        print(GaussSeidel(data, last_column, x, None, float(epsilon)))\n",
    "        "
   ]
  }
 ],
 "metadata": {
  "kernelspec": {
   "display_name": "Python 3",
   "language": "python",
   "name": "python3"
  },
  "language_info": {
   "codemirror_mode": {
    "name": "ipython",
    "version": 3
   },
   "file_extension": ".py",
   "mimetype": "text/x-python",
   "name": "python",
   "nbconvert_exporter": "python",
   "pygments_lexer": "ipython3",
   "version": "3.10.10"
  },
  "orig_nbformat": 4
 },
 "nbformat": 4,
 "nbformat_minor": 2
}
