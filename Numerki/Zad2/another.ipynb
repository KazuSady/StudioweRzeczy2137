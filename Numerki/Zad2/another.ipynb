{
 "cells": [
  {
   "cell_type": "code",
   "execution_count": 138,
   "metadata": {},
   "outputs": [
    {
     "name": "stdout",
     "output_type": "stream",
     "text": [
      "Wprowadz nazwe pliku z ukladem rownan do rozwiazania\n",
      "Wybierz metode stopu\n",
      "1 - Ilosc iteracji\n",
      "2 - Dokladnosc\n",
      "Wprowadz liczbe iteracji\n",
      "[1. 1. 1.]\n"
     ]
    }
   ],
   "source": [
    "import numpy as np\n",
    "\n",
    "def GaussSeidel(A, b, X, iter, eps):\n",
    "    n = len(b)      \n",
    "    for rep in range(iter):\n",
    "        x_new = np.zeros(n)\n",
    "        for j in range(n):\n",
    "            s1 = np.dot(A[j, :j], x_new[:j])\n",
    "            s2 = np.dot(A[j, j + 1:], X[j + 1:])\n",
    "            x_new[j] = (b[j] - s1 - s2) / A[j, j]\n",
    "        if eps!=None and np.allclose(X, x_new, rtol=eps):\n",
    "            return x_new\n",
    "        X = x_new\n",
    "    return X\n",
    "\n",
    "print('Wprowadz nazwe pliku z ukladem rownan do rozwiazania')\n",
    "fileName = input()\n",
    "print('Wybierz metode stopu\\n1 - Ilosc iteracji\\n2 - Dokladnosc')\n",
    "stopMethod = input()\n",
    "match stopMethod:\n",
    "    case '1':\n",
    "        print('Wprowadz liczbe iteracji')\n",
    "        iters = int(input())\n",
    "    case '2':\n",
    "        print('Wprowadz dokladnosc, np. 1e-8')\n",
    "        epsilon = float(input())\n",
    "\n",
    " # Read input file\n",
    "A = []\n",
    "b = []\n",
    "with open(fileName, \"r\") as f:\n",
    "    for line in f:\n",
    "        row = [float(x) for x in line.split()]\n",
    "        A.append(row[:-1])\n",
    "        b.append(row[-1])\n",
    "\n",
    "x0 = np.zeros(len(b))\n",
    "A=np.array(A)\n",
    "b=np.array(b)\n",
    "\n",
    "\n",
    "match stopMethod:\n",
    "    case '1':\n",
    "        print(np.round(GaussSeidel(A, b, x0, int(iters), None),2))\n",
    "    case '2':\n",
    "        print(np.round(GaussSeidel(A, b, x0,100, float(epsilon)),2))\n",
    "\n",
    "\n",
    "\n",
    "\n",
    "\n"
   ]
  }
 ],
 "metadata": {
  "kernelspec": {
   "display_name": "Python 3",
   "language": "python",
   "name": "python3"
  },
  "language_info": {
   "codemirror_mode": {
    "name": "ipython",
    "version": 3
   },
   "file_extension": ".py",
   "mimetype": "text/x-python",
   "name": "python",
   "nbconvert_exporter": "python",
   "pygments_lexer": "ipython3",
   "version": "3.10.10"
  },
  "orig_nbformat": 4
 },
 "nbformat": 4,
 "nbformat_minor": 2
}
